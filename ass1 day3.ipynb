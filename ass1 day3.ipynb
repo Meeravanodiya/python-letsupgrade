{
 "cells": [
  {
   "cell_type": "markdown",
   "metadata": {},
   "source": [
    "# assignment1 day3"
   ]
  },
  {
   "cell_type": "code",
   "execution_count": 4,
   "metadata": {},
   "outputs": [
    {
     "name": "stdout",
     "output_type": "stream",
     "text": [
      "enter the value4568\n",
      "bring down to 1000\n"
     ]
    }
   ],
   "source": [
    "z = int(input(\"enter the value\"))\n",
    "\n",
    "if(z<1000):\n",
    "    print(\"land the plane\")\n",
    "elif(z<5000):\n",
    "    print(\"bring down to 1000\")\n",
    "else:\n",
    "    print(\"turn around\")"
   ]
  },
  {
   "cell_type": "markdown",
   "metadata": {},
   "source": [
    "# assignment2 day3"
   ]
  },
  {
   "cell_type": "code",
   "execution_count": 8,
   "metadata": {},
   "outputs": [
    {
     "name": "stdout",
     "output_type": "stream",
     "text": [
      "enetr an interger value : 1\n",
      "1 number neither prime nor composite number\n"
     ]
    }
   ],
   "source": [
    "z=int(input(\"enetr an interger value : \"))\n",
    "    \n",
    "if z>1:\n",
    "  for i in range(2,z):\n",
    "        if((z%i)==0):\n",
    "            print(z,\"number is not prime number\")\n",
    "        else:\n",
    "            print(z,\"number is prime number\")\n",
    "else:\n",
    "    print(z,\"number neither prime nor composite number\") "
   ]
  },
  {
   "cell_type": "code",
   "execution_count": null,
   "metadata": {},
   "outputs": [],
   "source": []
  }
 ],
 "metadata": {
  "kernelspec": {
   "display_name": "Python 3",
   "language": "python",
   "name": "python3"
  },
  "language_info": {
   "codemirror_mode": {
    "name": "ipython",
    "version": 3
   },
   "file_extension": ".py",
   "mimetype": "text/x-python",
   "name": "python",
   "nbconvert_exporter": "python",
   "pygments_lexer": "ipython3",
   "version": "3.8.3"
  }
 },
 "nbformat": 4,
 "nbformat_minor": 4
}
