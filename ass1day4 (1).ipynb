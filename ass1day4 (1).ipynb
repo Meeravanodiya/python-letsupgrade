{
 "cells": [
  {
   "cell_type": "markdown",
   "metadata": {},
   "source": [
    "# assignment1 day4"
   ]
  },
  {
   "cell_type": "code",
   "execution_count": 14,
   "metadata": {},
   "outputs": [
    {
     "name": "stdout",
     "output_type": "stream",
     "text": [
      "enter the number between 1042000 to 702648265786930450\n",
      "the number is not armstrong number\n",
      "the number is not armstrong number\n",
      "the number is not armstrong number\n",
      "the number is not armstrong number\n",
      "the number is not armstrong number\n",
      "the number is not armstrong number\n",
      "the number is not armstrong number\n",
      "the number is not armstrong number\n",
      "the number is not armstrong number\n"
     ]
    }
   ],
   "source": [
    "z = int(input(\"enter the number between 1042000 to 702648265\"))\n",
    "b = str(z)\n",
    "order = len(b)\n",
    "sum=0\n",
    "temp=z\n",
    "while temp>0:\n",
    "    digit = temp%10\n",
    "    sum+=digit**order\n",
    "    temp//=10\n",
    "    if z==sum:\n",
    "        print(\"the number is armstrong number\")\n",
    "    else:\n",
    "        print(\"the number is not armstrong number\")"
   ]
  },
  {
   "cell_type": "code",
   "execution_count": null,
   "metadata": {},
   "outputs": [],
   "source": []
  },
  {
   "cell_type": "code",
   "execution_count": null,
   "metadata": {},
   "outputs": [],
   "source": []
  },
  {
   "cell_type": "code",
   "execution_count": null,
   "metadata": {},
   "outputs": [],
   "source": []
  },
  {
   "cell_type": "code",
   "execution_count": null,
   "metadata": {},
   "outputs": [],
   "source": []
  },
  {
   "cell_type": "code",
   "execution_count": null,
   "metadata": {},
   "outputs": [],
   "source": []
  },
  {
   "cell_type": "code",
   "execution_count": null,
   "metadata": {},
   "outputs": [],
   "source": []
  }
 ],
 "metadata": {
  "kernelspec": {
   "display_name": "Python 3",
   "language": "python",
   "name": "python3"
  },
  "language_info": {
   "codemirror_mode": {
    "name": "ipython",
    "version": 3
   },
   "file_extension": ".py",
   "mimetype": "text/x-python",
   "name": "python",
   "nbconvert_exporter": "python",
   "pygments_lexer": "ipython3",
   "version": "3.8.3"
  }
 },
 "nbformat": 4,
 "nbformat_minor": 4
}
