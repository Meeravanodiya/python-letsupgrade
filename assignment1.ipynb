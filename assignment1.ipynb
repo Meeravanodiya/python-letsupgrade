{
 "cells": [
  {
   "cell_type": "markdown",
   "metadata": {},
   "source": [
    "# 1.list and its default function\n",
    "\n"
   ]
  },
  {
   "cell_type": "code",
   "execution_count": 1,
   "metadata": {},
   "outputs": [],
   "source": [
    "lst= [1,2,3,4,5,6,7,7888,'meera',3.45]"
   ]
  },
  {
   "cell_type": "code",
   "execution_count": 2,
   "metadata": {},
   "outputs": [
    {
     "data": {
      "text/plain": [
       "list"
      ]
     },
     "execution_count": 2,
     "metadata": {},
     "output_type": "execute_result"
    }
   ],
   "source": [
    "type(lst)"
   ]
  },
  {
   "cell_type": "code",
   "execution_count": 3,
   "metadata": {},
   "outputs": [
    {
     "name": "stdout",
     "output_type": "stream",
     "text": [
      "[1, 2, 3, 4, 5, 6, 7, 7888, 'meera', 3.45]\n"
     ]
    }
   ],
   "source": [
    "print(lst)# prints the list\n",
    "    \n"
   ]
  },
  {
   "cell_type": "code",
   "execution_count": 5,
   "metadata": {
    "scrolled": true
   },
   "outputs": [
    {
     "name": "stdout",
     "output_type": "stream",
     "text": [
      "[1, 2, 3, 4, 5, 6, 7, 7888, 'meera', 3.45, 'meet', 'meet']\n"
     ]
    }
   ],
   "source": [
    "lst.append(\"meet\")#add in to list\n",
    "print(lst)\n"
   ]
  },
  {
   "cell_type": "code",
   "execution_count": 11,
   "metadata": {},
   "outputs": [
    {
     "name": "stdout",
     "output_type": "stream",
     "text": [
      "[1, 2, 3, 4, 5, 6, 7, 7888, 'meera', 3.45]\n",
      "[1, 2, 3, 4, 5, 6, 7, 7888, 'meera', 3.45]\n"
     ]
    }
   ],
   "source": [
    "lst= [1,2,3,4,5,6,7,7888,'meera',3.45]\n",
    "b=lst.copy()#copies the list\n",
    "print(lst)\n",
    "print(b)"
   ]
  },
  {
   "cell_type": "code",
   "execution_count": 12,
   "metadata": {},
   "outputs": [
    {
     "data": {
      "text/plain": [
       "3"
      ]
     },
     "execution_count": 12,
     "metadata": {},
     "output_type": "execute_result"
    }
   ],
   "source": [
    "lst.index(4)"
   ]
  },
  {
   "cell_type": "code",
   "execution_count": 14,
   "metadata": {},
   "outputs": [
    {
     "name": "stdout",
     "output_type": "stream",
     "text": [
      "[1, 2, 3, 4, 5, 6, 7, 7888, 'meera', 3.45, 9, 6, 5, 9, 6, 5]\n"
     ]
    }
   ],
   "source": [
    "lst.extend([9,6,5])# add in list\n",
    "print(lst)"
   ]
  },
  {
   "cell_type": "code",
   "execution_count": 17,
   "metadata": {},
   "outputs": [
    {
     "name": "stdout",
     "output_type": "stream",
     "text": [
      "1\n",
      "0\n",
      "3\n"
     ]
    }
   ],
   "source": [
    "print(lst.count('meera'))#returns the number of time meera appear in list\n",
    "print(lst.count('6'))\n",
    "print(lst.count(6))"
   ]
  },
  {
   "cell_type": "code",
   "execution_count": 18,
   "metadata": {},
   "outputs": [
    {
     "name": "stdout",
     "output_type": "stream",
     "text": [
      "5\n",
      "8\n",
      "7\n"
     ]
    }
   ],
   "source": [
    "print(lst.index(6))#gives index number counting starts from 0\n",
    "print(lst.index('meera'))\n",
    "print(lst.index(7888))"
   ]
  },
  {
   "cell_type": "code",
   "execution_count": 19,
   "metadata": {},
   "outputs": [
    {
     "name": "stdout",
     "output_type": "stream",
     "text": [
      "5\n",
      "[1, 2, 3, 4, 5, 6, 7, 7888, 'meera', 3.45]\n",
      "4\n",
      "[1, 2, 3, 5, 6, 7, 'meera', 3.45]\n"
     ]
    }
   ],
   "source": [
    "print(lst.pop())#index not specified\n",
    "lst= [1,2,3,4,5,6,7,7888,'meera',3.45]\n",
    "print(lst)\n",
    "print(lst.pop(3))#index specified\n",
    "lst.remove(7888)#remove meera from list\n",
    "print(lst)\n"
   ]
  },
  {
   "cell_type": "code",
   "execution_count": 20,
   "metadata": {},
   "outputs": [
    {
     "name": "stdout",
     "output_type": "stream",
     "text": [
      "[3.45, 'meera', 7888, 7, 6, 5, 4, 3, 2, 1]\n"
     ]
    }
   ],
   "source": [
    "lst= [1,2,3,4,5,6,7,7888,'meera',3.45]\n",
    "lst.reverse()\n",
    "print(lst)"
   ]
  },
  {
   "cell_type": "code",
   "execution_count": 24,
   "metadata": {},
   "outputs": [
    {
     "name": "stdout",
     "output_type": "stream",
     "text": [
      "sorted list: ['a', 'e', 'i', 'o', 'u']\n",
      "sorted list(in descending): ['u', 'o', 'i', 'e', 'a']\n"
     ]
    }
   ],
   "source": [
    "vowels=['u','a','i','e','o']#sort the vowels\n",
    "vowels.sort()\n",
    "print('sorted list:',vowels)\n",
    "vowels.sort(reverse=True)\n",
    "print('sorted list(in descending):',vowels)"
   ]
  },
  {
   "cell_type": "markdown",
   "metadata": {},
   "source": [
    "# DICTIONARY AND ITS DEFAULT FUNCTION"
   ]
  },
  {
   "cell_type": "code",
   "execution_count": 2,
   "metadata": {},
   "outputs": [
    {
     "data": {
      "text/plain": [
       "dict"
      ]
     },
     "execution_count": 2,
     "metadata": {},
     "output_type": "execute_result"
    }
   ],
   "source": [
    "d1={\"name\":\"meera\",\"f1\":\"damini\",\"f2\":\"tanvi\",\"f3\":\"mauli\",\"f4\":\"khushi\"}\n",
    "type(d1)\n"
   ]
  },
  {
   "cell_type": "code",
   "execution_count": 8,
   "metadata": {},
   "outputs": [
    {
     "data": {
      "text/plain": [
       "dict_items([('name', 'meera'), ('f1', 'damini'), ('f2', 'tanvi'), ('f3', 'mauli'), ('f4', 'khushi')])"
      ]
     },
     "execution_count": 8,
     "metadata": {},
     "output_type": "execute_result"
    }
   ],
   "source": [
    "d1.items\n",
    "d1.get\n",
    "\n"
   ]
  },
  {
   "cell_type": "code",
   "execution_count": 9,
   "metadata": {},
   "outputs": [
    {
     "data": {
      "text/plain": [
       "dict_values(['meera', 'damini', 'tanvi', 'mauli', 'khushi'])"
      ]
     },
     "execution_count": 9,
     "metadata": {},
     "output_type": "execute_result"
    }
   ],
   "source": [
    " d1.values()\n",
    "    "
   ]
  },
  {
   "cell_type": "code",
   "execution_count": 24,
   "metadata": {},
   "outputs": [
    {
     "name": "stdout",
     "output_type": "stream",
     "text": [
      "meera\n",
      "{'name': 'meera', 'f1': 'damini', 'f2': 'tanvi', 'f3': 'mauli', 'f4': 'khushi', 'f5': 'neha'}\n",
      "{'name': 'meera', 'f1': 'damini', 'f2': 'tanvi', 'f3': 'mauli', 'f4': 'khushi', 'f5': 'neha'}\n"
     ]
    }
   ],
   "source": [
    "print(d1.get(\"name\"))# get name\n",
    "d1[\"f5\"]=\"neha\"\n",
    "print(d1)\n",
    "d3 = d1.copy()# make copy of d1\n",
    "print(d3)\n",
    "\n",
    "\n",
    "\n"
   ]
  },
  {
   "cell_type": "markdown",
   "metadata": {},
   "source": [
    "# set and its default function\n",
    "\n"
   ]
  },
  {
   "cell_type": "markdown",
   "metadata": {},
   "source": [
    "st={1,2,3,4,'meera','python',7}\n",
    "print(st)\n",
    "print(type(st))\n",
    "st.add(9)\n",
    "st.update([4,5],{6,7,8})\n",
    "print(st)\n",
    "st.discard('meera')\n",
    "print(st)\n",
    "st.remove('python')\n",
    "print(st)\n",
    "b={1,3,5,7}\n",
    "print(b)\n",
    "st.union(b)\n",
    "print(st &b)\n",
    "st.difference(b)\n",
    "\n",
    "\n",
    "\n",
    "\n"
   ]
  },
  {
   "cell_type": "markdown",
   "metadata": {},
   "source": [
    "# tuple and its defualt function"
   ]
  },
  {
   "cell_type": "code",
   "execution_count": 35,
   "metadata": {},
   "outputs": [
    {
     "name": "stdout",
     "output_type": "stream",
     "text": [
      "('pysics', 'chem', 'maths', 'biology')\n",
      "pysics\n",
      "('pysics', 'chem', 'maths', 'biology')\n",
      "0\n"
     ]
    }
   ],
   "source": [
    "t1=('pysics','chem','maths','biology')\n",
    "print(t1)\n",
    "t2=(1,2,3,4)\n",
    "t3=('a','b','c','d')\n",
    "print(t1[0])\n",
    "index=t1.index('chem')\n",
    "print(t1)\n",
    "print(t1.count(1))\n"
   ]
  },
  {
   "cell_type": "markdown",
   "metadata": {},
   "source": [
    "# boolean and its default function"
   ]
  },
  {
   "cell_type": "code",
   "execution_count": 38,
   "metadata": {},
   "outputs": [
    {
     "name": "stdout",
     "output_type": "stream",
     "text": [
      "False\n"
     ]
    }
   ],
   "source": [
    "x= 5\n",
    "y=3\n",
    "print(bool(x==y))"
   ]
  },
  {
   "cell_type": "code",
   "execution_count": null,
   "metadata": {},
   "outputs": [],
   "source": []
  },
  {
   "cell_type": "code",
   "execution_count": null,
   "metadata": {},
   "outputs": [],
   "source": []
  },
  {
   "cell_type": "code",
   "execution_count": null,
   "metadata": {},
   "outputs": [],
   "source": []
  }
 ],
 "metadata": {
  "kernelspec": {
   "display_name": "Python 3",
   "language": "python",
   "name": "python3"
  },
  "language_info": {
   "codemirror_mode": {
    "name": "ipython",
    "version": 3
   },
   "file_extension": ".py",
   "mimetype": "text/x-python",
   "name": "python",
   "nbconvert_exporter": "python",
   "pygments_lexer": "ipython3",
   "version": "3.8.3"
  }
 },
 "nbformat": 4,
 "nbformat_minor": 4
}
